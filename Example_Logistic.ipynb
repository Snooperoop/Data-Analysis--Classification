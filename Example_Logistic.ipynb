{
 "cells": [
  {
   "cell_type": "code",
   "execution_count": 1,
   "id": "26fbfaac",
   "metadata": {},
   "outputs": [],
   "source": [
    "# Malignent is 1 and Beniegn is -1\n",
    "def number_classify(diagnosis:str):\n",
    "    if diagnosis == 'M': \n",
    "        return 1\n",
    "    else: #diagnosis == \"B\"\n",
    "        return 0"
   ]
  },
  {
   "cell_type": "code",
   "execution_count": 2,
   "id": "e7f9e86d",
   "metadata": {},
   "outputs": [
    {
     "data": {
      "text/html": [
       "<div>\n",
       "<style scoped>\n",
       "    .dataframe tbody tr th:only-of-type {\n",
       "        vertical-align: middle;\n",
       "    }\n",
       "\n",
       "    .dataframe tbody tr th {\n",
       "        vertical-align: top;\n",
       "    }\n",
       "\n",
       "    .dataframe thead th {\n",
       "        text-align: right;\n",
       "    }\n",
       "</style>\n",
       "<table border=\"1\" class=\"dataframe\">\n",
       "  <thead>\n",
       "    <tr style=\"text-align: right;\">\n",
       "      <th></th>\n",
       "      <th>diagnosis</th>\n",
       "      <th>radius_mean</th>\n",
       "      <th>texture_mean</th>\n",
       "      <th>perimeter_mean</th>\n",
       "      <th>numb_Diagnosis</th>\n",
       "    </tr>\n",
       "  </thead>\n",
       "  <tbody>\n",
       "    <tr>\n",
       "      <th>0</th>\n",
       "      <td>M</td>\n",
       "      <td>0.639986</td>\n",
       "      <td>0.264257</td>\n",
       "      <td>0.651459</td>\n",
       "      <td>1</td>\n",
       "    </tr>\n",
       "    <tr>\n",
       "      <th>1</th>\n",
       "      <td>M</td>\n",
       "      <td>0.731768</td>\n",
       "      <td>0.452393</td>\n",
       "      <td>0.705040</td>\n",
       "      <td>1</td>\n",
       "    </tr>\n",
       "    <tr>\n",
       "      <th>2</th>\n",
       "      <td>M</td>\n",
       "      <td>0.700462</td>\n",
       "      <td>0.540988</td>\n",
       "      <td>0.689655</td>\n",
       "      <td>1</td>\n",
       "    </tr>\n",
       "    <tr>\n",
       "      <th>3</th>\n",
       "      <td>M</td>\n",
       "      <td>0.406261</td>\n",
       "      <td>0.518839</td>\n",
       "      <td>0.411565</td>\n",
       "      <td>1</td>\n",
       "    </tr>\n",
       "    <tr>\n",
       "      <th>4</th>\n",
       "      <td>M</td>\n",
       "      <td>0.721807</td>\n",
       "      <td>0.365071</td>\n",
       "      <td>0.716711</td>\n",
       "      <td>1</td>\n",
       "    </tr>\n",
       "  </tbody>\n",
       "</table>\n",
       "</div>"
      ],
      "text/plain": [
       "  diagnosis  radius_mean  texture_mean  perimeter_mean  numb_Diagnosis\n",
       "0         M     0.639986      0.264257        0.651459               1\n",
       "1         M     0.731768      0.452393        0.705040               1\n",
       "2         M     0.700462      0.540988        0.689655               1\n",
       "3         M     0.406261      0.518839        0.411565               1\n",
       "4         M     0.721807      0.365071        0.716711               1"
      ]
     },
     "execution_count": 2,
     "metadata": {},
     "output_type": "execute_result"
    }
   ],
   "source": [
    "import numpy as np\n",
    "import pandas as pd\n",
    "import matplotlib.pyplot as plt\n",
    "import Classifier\n",
    "\n",
    "df = pd.read_csv('Cancer_Data.csv', usecols=[1,2,3,4])\n",
    "df['numb_Diagnosis'] = df['diagnosis'].apply(number_classify)\n",
    "\n",
    "perim_max = df['perimeter_mean'].max()\n",
    "radius_max = df['radius_mean'].max()\n",
    "texture_max = df['texture_mean'].max()\n",
    "\n",
    "df['texture_mean'] /= texture_max\n",
    "df['perimeter_mean'] /= perim_max \n",
    "df['radius_mean'] /= radius_max\n",
    "\n",
    "\n",
    "ratio: float = 0.80\n",
    "split: int = int(ratio * len(df))\n",
    "learning_df = df[:split]\n",
    "testing_df = df[split:]\n",
    "\n",
    "learning_df.head()"
   ]
  },
  {
   "cell_type": "code",
   "execution_count": 3,
   "id": "de7d20bb",
   "metadata": {},
   "outputs": [],
   "source": [
    "'''LOGISITIC REGRESSOIN'''\n",
    "\n",
    "log_model = Classifier.Logistic_Regression(['perimeter_mean', 'radius_mean', 'texture_mean'],'numb_Diagnosis')\n",
    "log_model.Train_Model(learning_df,10000,0.01)\n"
   ]
  },
  {
   "cell_type": "code",
   "execution_count": null,
   "id": "29c765d9",
   "metadata": {},
   "outputs": [
    {
     "data": {
      "image/png": "[encoded data removed]",
      "text/plain": [
       "<Figure size 640x480 with 1 Axes>"
      ]
     },
     "metadata": {},
     "output_type": "display_data"
    }
   ],
   "source": [
    "plt.scatter(learning_df['radius_mean'], learning_df['numb_Diagnosis'], s=1)\n",
    "plt.show()"
   ]
  },
  {
   "cell_type": "code",
   "execution_count": 9,
   "id": "e9d14f82",
   "metadata": {},
   "outputs": [
    {
     "name": "stdout",
     "output_type": "stream",
     "text": [
      "Accuracy: 0.956140350877193\n",
      "Prediction: [[0.65772672]]\n"
     ]
    }
   ],
   "source": [
    "print(\"Accuracy: \" + str(log_model.Test_Class(testing_df,0.5)))\n",
    "\n",
    "print(\"Prediction: \" + str(log_model.Predict([[0.8, 0.5, 0.8]])))"
   ]
  }
 ],
 "metadata": {
  "kernelspec": {
   "display_name": ".venv",
   "language": "python",
   "name": "python3"
  },
  "language_info": {
   "codemirror_mode": {
    "name": "ipython",
    "version": 3
   },
   "file_extension": ".py",
   "mimetype": "text/x-python",
   "name": "python",
   "nbconvert_exporter": "python",
   "pygments_lexer": "ipython3",
   "version": "3.9.6"
  }
 },
 "nbformat": 4,
 "nbformat_minor": 5
}
