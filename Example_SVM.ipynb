{
 "cells": [
  {
   "cell_type": "code",
   "execution_count": 1,
   "id": "1efaeee7",
   "metadata": {},
   "outputs": [],
   "source": [
    "# Malignent is 1 and Beniegn is -1\n",
    "def number_classify(diagnosis:str):\n",
    "    if diagnosis == 'M': \n",
    "        return 1\n",
    "    else: #diagnosis == \"B\"\n",
    "        return -1"
   ]
  },
  {
   "cell_type": "code",
   "execution_count": 2,
   "id": "21456864",
   "metadata": {},
   "outputs": [
    {
     "data": {
      "text/html": [
       "<div>\n",
       "<style scoped>\n",
       "    .dataframe tbody tr th:only-of-type {\n",
       "        vertical-align: middle;\n",
       "    }\n",
       "\n",
       "    .dataframe tbody tr th {\n",
       "        vertical-align: top;\n",
       "    }\n",
       "\n",
       "    .dataframe thead th {\n",
       "        text-align: right;\n",
       "    }\n",
       "</style>\n",
       "<table border=\"1\" class=\"dataframe\">\n",
       "  <thead>\n",
       "    <tr style=\"text-align: right;\">\n",
       "      <th></th>\n",
       "      <th>diagnosis</th>\n",
       "      <th>radius_mean</th>\n",
       "      <th>texture_mean</th>\n",
       "      <th>perimeter_mean</th>\n",
       "      <th>numb_Diagnosis</th>\n",
       "    </tr>\n",
       "  </thead>\n",
       "  <tbody>\n",
       "    <tr>\n",
       "      <th>0</th>\n",
       "      <td>B</td>\n",
       "      <td>0.447528</td>\n",
       "      <td>0.468432</td>\n",
       "      <td>0.423501</td>\n",
       "      <td>-1</td>\n",
       "    </tr>\n",
       "    <tr>\n",
       "      <th>1</th>\n",
       "      <td>M</td>\n",
       "      <td>0.574884</td>\n",
       "      <td>0.548371</td>\n",
       "      <td>0.563395</td>\n",
       "      <td>1</td>\n",
       "    </tr>\n",
       "    <tr>\n",
       "      <th>2</th>\n",
       "      <td>B</td>\n",
       "      <td>0.599075</td>\n",
       "      <td>0.495418</td>\n",
       "      <td>0.575066</td>\n",
       "      <td>-1</td>\n",
       "    </tr>\n",
       "    <tr>\n",
       "      <th>3</th>\n",
       "      <td>B</td>\n",
       "      <td>0.413376</td>\n",
       "      <td>0.462831</td>\n",
       "      <td>0.405199</td>\n",
       "      <td>-1</td>\n",
       "    </tr>\n",
       "    <tr>\n",
       "      <th>4</th>\n",
       "      <td>B</td>\n",
       "      <td>0.464248</td>\n",
       "      <td>0.491599</td>\n",
       "      <td>0.438249</td>\n",
       "      <td>-1</td>\n",
       "    </tr>\n",
       "    <tr>\n",
       "      <th>5</th>\n",
       "      <td>B</td>\n",
       "      <td>0.586980</td>\n",
       "      <td>0.465631</td>\n",
       "      <td>0.565517</td>\n",
       "      <td>-1</td>\n",
       "    </tr>\n",
       "    <tr>\n",
       "      <th>6</th>\n",
       "      <td>B</td>\n",
       "      <td>0.292387</td>\n",
       "      <td>0.526986</td>\n",
       "      <td>0.282599</td>\n",
       "      <td>-1</td>\n",
       "    </tr>\n",
       "    <tr>\n",
       "      <th>7</th>\n",
       "      <td>B</td>\n",
       "      <td>0.412665</td>\n",
       "      <td>0.467413</td>\n",
       "      <td>0.391936</td>\n",
       "      <td>-1</td>\n",
       "    </tr>\n",
       "    <tr>\n",
       "      <th>8</th>\n",
       "      <td>M</td>\n",
       "      <td>0.487727</td>\n",
       "      <td>0.530295</td>\n",
       "      <td>0.478515</td>\n",
       "      <td>1</td>\n",
       "    </tr>\n",
       "    <tr>\n",
       "      <th>9</th>\n",
       "      <td>B</td>\n",
       "      <td>0.498755</td>\n",
       "      <td>0.398676</td>\n",
       "      <td>0.475279</td>\n",
       "      <td>-1</td>\n",
       "    </tr>\n",
       "  </tbody>\n",
       "</table>\n",
       "</div>"
      ],
      "text/plain": [
       "  diagnosis  radius_mean  texture_mean  perimeter_mean  numb_Diagnosis\n",
       "0         B     0.447528      0.468432        0.423501              -1\n",
       "1         M     0.574884      0.548371        0.563395               1\n",
       "2         B     0.599075      0.495418        0.575066              -1\n",
       "3         B     0.413376      0.462831        0.405199              -1\n",
       "4         B     0.464248      0.491599        0.438249              -1\n",
       "5         B     0.586980      0.465631        0.565517              -1\n",
       "6         B     0.292387      0.526986        0.282599              -1\n",
       "7         B     0.412665      0.467413        0.391936              -1\n",
       "8         M     0.487727      0.530295        0.478515               1\n",
       "9         B     0.498755      0.398676        0.475279              -1"
      ]
     },
     "execution_count": 2,
     "metadata": {},
     "output_type": "execute_result"
    }
   ],
   "source": [
    "import numpy as np\n",
    "import pandas as pd\n",
    "import matplotlib.pyplot as plot\n",
    "import Classifier\n",
    "\n",
    "df = pd.read_csv('Cancer_Data.csv', usecols=[1,2,3,4])\n",
    "df = df.sample(frac=1).reset_index(drop=True)\n",
    "df['numb_Diagnosis'] = df['diagnosis'].apply(number_classify)\n",
    "\n",
    "perim_max = df['perimeter_mean'].max()\n",
    "radius_max = df['radius_mean'].max()\n",
    "texture_Max = df['texture_mean'].max()\n",
    "\n",
    "df['texture_mean'] /= texture_Max\n",
    "df['perimeter_mean'] /= perim_max \n",
    "df['radius_mean'] /= radius_max\n",
    "\n",
    "\n",
    "ratio: float = 0.80\n",
    "split: int = int(ratio * len(df))\n",
    "learning_df = df[:split]\n",
    "testing_df = df[split:]\n",
    "\n",
    "learning_df.head(10)"
   ]
  },
  {
   "cell_type": "code",
   "execution_count": 3,
   "id": "e8c2876e",
   "metadata": {},
   "outputs": [
    {
     "name": "stdout",
     "output_type": "stream",
     "text": [
      "[9.7075959  3.15766013]\n"
     ]
    }
   ],
   "source": [
    "cancer_Primal_SVM = Classifier.Regularized_SVM(['radius_mean', 'texture_mean'], 'numb_Diagnosis')\n",
    "cancer_Primal_SVM.Train_Model(learning_df,500,0.01, 0.001)\n",
    "print(cancer_Primal_SVM.Weights)"
   ]
  },
  {
   "cell_type": "code",
   "execution_count": 4,
   "id": "e1c8030c",
   "metadata": {},
   "outputs": [
    {
     "data": {
      "text/plain": [
       "<matplotlib.collections.PathCollection at 0x117ea8fa0>"
      ]
     },
     "execution_count": 4,
     "metadata": {},
     "output_type": "execute_result"
    },
    {
     "data": {
      "image/png": "[encoded data removed]",
      "text/plain": [
       "<Figure size 640x480 with 1 Axes>"
      ]
     },
     "metadata": {},
     "output_type": "display_data"
    }
   ],
   "source": [
    "plot.scatter(df['texture_mean'], df['numb_Diagnosis'])"
   ]
  },
  {
   "cell_type": "code",
   "execution_count": 5,
   "id": "effb6920",
   "metadata": {},
   "outputs": [
    {
     "name": "stdout",
     "output_type": "stream",
     "text": [
      "0.9122807017543859\n",
      "-1.0\n"
     ]
    }
   ],
   "source": [
    "print(cancer_Primal_SVM.Test_Model(testing_df))\n",
    "print(cancer_Primal_SVM.Predict_Class([0.59, 0.3]))"
   ]
  }
 ],
 "metadata": {
  "kernelspec": {
   "display_name": ".venv",
   "language": "python",
   "name": "python3"
  },
  "language_info": {
   "codemirror_mode": {
    "name": "ipython",
    "version": 3
   },
   "file_extension": ".py",
   "mimetype": "text/x-python",
   "name": "python",
   "nbconvert_exporter": "python",
   "pygments_lexer": "ipython3",
   "version": "3.9.6"
  }
 },
 "nbformat": 4,
 "nbformat_minor": 5
}
